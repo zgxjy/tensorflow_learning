{
 "cells": [
  {
   "cell_type": "markdown",
   "metadata": {},
   "source": [
    "# Tensorflow入门\n",
    "\n",
    "Tensorflow是一个基于图的计算系统，其主要应用于机器学习。\n",
    "\n",
    "从Tensorflow名字的字面意思可以拆分成两部分来理解：Tensor+flow。\n",
    "\n",
    "Tensor：中文名可以称为“张量”，其本质就是任意维度的数组。一个向量就是一个1维的Tensor，一个矩阵就是2维的Tensor。\n",
    "Flow：指的就是图计算中的数据流。\n",
    "当我们想要使用Tensorflow做什么事情的时候，一般需要三个操作步骤：\n",
    "\n",
    "创建Tensor；\n",
    "添加Operations（Operations输入Tensor，然后输出另一个Tensor）；\n",
    "执行计算（也就是运行一个可计算的图）。"
   ]
  },
  {
   "cell_type": "markdown",
   "metadata": {},
   "source": [
    "## 测试代码"
   ]
  },
  {
   "cell_type": "code",
   "execution_count": 1,
   "metadata": {},
   "outputs": [
    {
     "name": "stderr",
     "output_type": "stream",
     "text": [
      "C:\\Users\\adsss\\Anaconda3\\lib\\site-packages\\h5py\\__init__.py:36: FutureWarning: Conversion of the second argument of issubdtype from `float` to `np.floating` is deprecated. In future, it will be treated as `np.float64 == np.dtype(float).type`.\n",
      "  from ._conv import register_converters as _register_converters\n"
     ]
    }
   ],
   "source": [
    "import tensorflow as tf"
   ]
  },
  {
   "cell_type": "code",
   "execution_count": 2,
   "metadata": {},
   "outputs": [],
   "source": [
    "a = tf.constant([1.0,2.0],name='a')\n",
    "b = tf.constant([1.0,2.0],name='b')"
   ]
  },
  {
   "cell_type": "code",
   "execution_count": 3,
   "metadata": {},
   "outputs": [],
   "source": [
    "result = a + b"
   ]
  },
  {
   "cell_type": "markdown",
   "metadata": {},
   "source": [
    "* 结果必须通过生成一个会话，通过这个会话计算结果"
   ]
  },
  {
   "cell_type": "code",
   "execution_count": 4,
   "metadata": {},
   "outputs": [
    {
     "data": {
      "text/plain": [
       "array([2., 4.], dtype=float32)"
      ]
     },
     "execution_count": 4,
     "metadata": {},
     "output_type": "execute_result"
    }
   ],
   "source": [
    "sess = tf.Session()\n",
    "sess.run(result)"
   ]
  },
  {
   "cell_type": "code",
   "execution_count": 5,
   "metadata": {},
   "outputs": [
    {
     "name": "stdout",
     "output_type": "stream",
     "text": [
      "[3. 3. 3. 3.]\n"
     ]
    }
   ],
   "source": [
    "with tf.Session():#在这个会话里自动运行\n",
    "    input1 = tf.constant([1.0,1.0,1.0,1.0])\n",
    "    input2 = tf.constant([2.0,2.0,2.0,2.0])\n",
    "    output = tf.add(input1, input2)\n",
    "    result = output.eval()\n",
    "    print (result)"
   ]
  },
  {
   "cell_type": "markdown",
   "metadata": {},
   "source": [
    "![](img/1.jpg)"
   ]
  },
  {
   "cell_type": "markdown",
   "metadata": {},
   "source": [
    "## 计算图\n",
    "* 在TensorFlow程序中，系统会自动维护一个默认的计算图，通过tf.get_default_graph可以获取默认的计算图\n",
    "* TF支持通过tf.Graph生成新的计算图\n",
    "* 不同计算图下张量和运算不共享"
   ]
  },
  {
   "cell_type": "code",
   "execution_count": 6,
   "metadata": {},
   "outputs": [],
   "source": [
    "g1 = tf.Graph()\n",
    "with g1.as_default():\n",
    "    # 在计算图g1中定义变量‘v’，并设置初始值为0\n",
    "    v = tf.get_variable(\"v\",shape = [1], initializer = tf.zeros_initializer) "
   ]
  },
  {
   "cell_type": "code",
   "execution_count": 7,
   "metadata": {},
   "outputs": [],
   "source": [
    "g2 = tf.Graph()\n",
    "with g2.as_default():\n",
    "    # 在计算图g1中定义变量‘v’，并设置初始值为1\n",
    "    v = tf.get_variable(\"v\",shape = [1], initializer = tf.ones_initializer) "
   ]
  },
  {
   "cell_type": "code",
   "execution_count": 8,
   "metadata": {},
   "outputs": [
    {
     "name": "stdout",
     "output_type": "stream",
     "text": [
      "[0.]\n"
     ]
    }
   ],
   "source": [
    "# 在计算图g1中读取v张量\n",
    "with tf.Session(graph=g1) as sess:\n",
    "    tf.global_variables_initializer().run()\n",
    "    with tf.variable_scope('',reuse=True):\n",
    "        #在g1中,v为0\n",
    "        print(sess.run(tf.get_variable(\"v\")))"
   ]
  },
  {
   "cell_type": "code",
   "execution_count": 9,
   "metadata": {},
   "outputs": [
    {
     "name": "stdout",
     "output_type": "stream",
     "text": [
      "[1.]\n"
     ]
    }
   ],
   "source": [
    "# 在计算图g2中读取v张量\n",
    "with tf.Session(graph=g2) as sess:\n",
    "    tf.global_variables_initializer().run()\n",
    "    with tf.variable_scope('',reuse=True):\n",
    "        #在g2中,v为1\n",
    "        print(sess.run(tf.get_variable(\"v\")))"
   ]
  },
  {
   "cell_type": "markdown",
   "metadata": {},
   "source": [
    "## 张量\n",
    "* 在Tensorflow中，所有数据都通过张量的形式来表示，从功能上看，张量可以简单的被理解为多维数组。其中零阶张量表示标量（scalar），也就是一个数；第一阶张量为向量（vector）,也就是一个一维数组；同理第n阶张量就是n维数组。 \n",
    "**但是张量在Tensorflow中的实现并不是采用数组的形式，他只是对Tensorflow中运算结果的引用。在张量中并没有真正的保存数字，它保存的是如何得到这些数字的计算过程。 **"
   ]
  },
  {
   "cell_type": "code",
   "execution_count": 10,
   "metadata": {},
   "outputs": [
    {
     "name": "stdout",
     "output_type": "stream",
     "text": [
      "Tensor(\"add_2:0\", shape=(2,), dtype=float32)\n"
     ]
    }
   ],
   "source": [
    "a=tf.constant([1.0,2.0],name='a')\n",
    "b=tf.constant([2.0,3.0],name='b')\n",
    "result=tf.add(a,b,name='add')\n",
    "print(result)"
   ]
  },
  {
   "cell_type": "markdown",
   "metadata": {},
   "source": [
    "**一个张量主要保存三个属性：名字（name）、维度（shape）和类型（type）。 **\n",
    "* “add_2:2”就说明result这个张量是计算节点”add_2”输出的第3个结果(编号从零开始)。 "
   ]
  },
  {
   "cell_type": "markdown",
   "metadata": {},
   "source": [
    "## 会话\n",
    "在TensorFlow中，有两种用于运行计算图（graph）的会话（session）\n",
    "\n",
    "* tf.Session( )\n",
    "\n",
    "* tf.InteractivesSession( )【注：会将自动生成的会话注册为默认会话，方便使用于在python脚本或者jupyter编辑器下】"
   ]
  },
  {
   "cell_type": "markdown",
   "metadata": {},
   "source": [
    "### 非交互\n",
    "\n",
    "一个session可能会占用一些资源，比如变量、队列和读取器(reader)。\n",
    "我们使用sess.close()关闭会话或者使用上下文管理器释放这些不再使用的资源。"
   ]
  },
  {
   "cell_type": "code",
   "execution_count": 11,
   "metadata": {},
   "outputs": [
    {
     "name": "stdout",
     "output_type": "stream",
     "text": [
      "8\n"
     ]
    }
   ],
   "source": [
    "# 构建graph\n",
    "a = tf.add(3, 5) \n",
    "\n",
    "# 运行graph\n",
    "sess = tf.Session()  # 创建tf.Session的一个对象sess\n",
    "print(sess.run(a)) \n",
    "\n",
    "sess.close()         # 关闭sess对象"
   ]
  },
  {
   "cell_type": "markdown",
   "metadata": {},
   "source": [
    "### 建议的tf.Session( )写法"
   ]
  },
  {
   "cell_type": "code",
   "execution_count": 12,
   "metadata": {},
   "outputs": [
    {
     "name": "stdout",
     "output_type": "stream",
     "text": [
      "[[12.]]\n"
     ]
    }
   ],
   "source": [
    "# 构建graph\n",
    "matrix1 = tf.constant([[3., 3.]])  \n",
    "matrix2 = tf.constant([[2.], [2.]])  \n",
    "\n",
    "product = tf.matmul(matrix1, matrix2)  \n",
    "\n",
    "# 运行graph\n",
    "with tf.Session() as sess:          # 使用\"with\"语句，自动关闭会话\n",
    "    print(sess.run(product))  "
   ]
  },
  {
   "cell_type": "markdown",
   "metadata": {},
   "source": [
    "### Fetch（取回）\n",
    "\n",
    "在使用sess.run( )运行图时，我们可以传入fetches，**用于取回某些操作或tensor的输出内容**。fetches可以是list，tuple，namedtuple，dict中的任意一个。fetches可以是一个列表，在op的一次运行中一起获得（而不是逐个去获取 tensor）多个tensor值。"
   ]
  },
  {
   "cell_type": "code",
   "execution_count": 13,
   "metadata": {},
   "outputs": [
    {
     "name": "stdout",
     "output_type": "stream",
     "text": [
      "[10 20]\n",
      "[array([10, 20]), array([1., 2.], dtype=float32)]\n",
      "[10 20]\n",
      "{'k1': MyData(a=array([10, 20]), b=array([1., 2.], dtype=float32)), 'k2': [array([1., 2.], dtype=float32), array([10, 20])]}\n"
     ]
    }
   ],
   "source": [
    "from collections import namedtuple\n",
    "\n",
    "a = tf.constant([10, 20])\n",
    "b = tf.constant([1.0, 2.0])\n",
    "MyData = namedtuple('MyData', ['a', 'b'])\n",
    "\n",
    "with tf.Session() as sess:\n",
    "    c = sess.run(a)            # fetches可以为单个数a\n",
    "    d = sess.run([a, b])       # fetches可以为一个列表[a, b]\n",
    "    v = sess.run({'k1': MyData(a, b), 'k2': [b, a]}) \n",
    "\n",
    "    print(c)\n",
    "    print(d)\n",
    "    print(d[0])\n",
    "    print(v) "
   ]
  },
  {
   "cell_type": "markdown",
   "metadata": {},
   "source": [
    "### Feed（注入）\n",
    "\n",
    "TensorFlow提供了feed注入机制, 它可以临时替代graph中任意op操作的输入tensor，可以对graph中任何操作提交补丁（直接插入一个tensor）。\n",
    "\n",
    "feed机制只在调用它的方法内有效，方法结束，feed就会消失。最常见的用例是把某些特殊操作为feed注入的对象。你可以提供数据feed_dict，作为sess.run( )调用的参数。使用tf.placeholder( )，为某些操作的输入创建占位符。"
   ]
  },
  {
   "cell_type": "code",
   "execution_count": 14,
   "metadata": {},
   "outputs": [
    {
     "name": "stdout",
     "output_type": "stream",
     "text": [
      "[[3 3]\n",
      " [3 3]]\n"
     ]
    }
   ],
   "source": [
    "import numpy as np\n",
    "\n",
    "x = np.ones((2, 3))\n",
    "y = np.ones((3, 2)) \n",
    "\n",
    "input1 = tf.placeholder(tf.int32)\n",
    "input2 = tf.placeholder(tf.int32)\n",
    "\n",
    "output = tf.matmul(input1, input2)\n",
    "\n",
    "with tf.Session() as sess:\n",
    "    print(sess.run(output, feed_dict = {input1:x, input2:y}))"
   ]
  },
  {
   "cell_type": "markdown",
   "metadata": {},
   "source": [
    "# 小例子1：线性回归"
   ]
  },
  {
   "cell_type": "code",
   "execution_count": 15,
   "metadata": {},
   "outputs": [],
   "source": [
    "import numpy as np\n",
    "import tensorflow as tf\n",
    "import matplotlib.pyplot as plt"
   ]
  },
  {
   "cell_type": "code",
   "execution_count": 16,
   "metadata": {},
   "outputs": [
    {
     "data": {
      "image/png": "[encoded data removed]",
      "text/plain": [
       "<Figure size 432x288 with 1 Axes>"
      ]
     },
     "metadata": {},
     "output_type": "display_data"
    }
   ],
   "source": [
    "# 随机生成1000个点，围绕在y=0.1x+0.3的直线周围\n",
    "num_points = 1000\n",
    "vectors_set = []\n",
    "for i in range(num_points):\n",
    "    x1 = np.random.normal(0.0, 0.55)\n",
    "    y1 = x1 * 0.1 + 0.3 + np.random.normal(0.0, 0.03)\n",
    "    vectors_set.append([x1, y1])\n",
    "\n",
    "# 生成一些样本\n",
    "x_data = [v[0] for v in vectors_set]\n",
    "y_data = [v[1] for v in vectors_set]\n",
    "\n",
    "plt.scatter(x_data,y_data,c='r')\n",
    "plt.show()"
   ]
  },
  {
   "cell_type": "markdown",
   "metadata": {},
   "source": [
    "* 思路：根据图形分布，我们希望能拟合出$y = wx+b$这条曲线。因此我们希望通过不断地迭代，减少损失值，计算出好的w和b值可以较好地拟合出这条线"
   ]
  },
  {
   "cell_type": "code",
   "execution_count": 18,
   "metadata": {},
   "outputs": [],
   "source": [
    "# 生成1维的W矩阵，取值是[-1,1]之间的随机数\n",
    "W = tf.Variable(tf.random_uniform([1],-1.0,1.0),name='W')\n",
    "# 生成1维的b矩阵，初始值是0\n",
    "b = tf.Variable(tf.zeros([1]), name='b')\n",
    "# 经过计算得出预估值y\n",
    "y = W * x_data + b"
   ]
  },
  {
   "cell_type": "code",
   "execution_count": 19,
   "metadata": {},
   "outputs": [],
   "source": [
    "# 以预估值y和实际值y_data之间的均方误差作为损失\n",
    "loss = tf.reduce_mean(tf.square(y - y_data), name='loss')\n",
    "# 采用梯度下降法来优化参数\n",
    "optimizer = tf.train.GradientDescentOptimizer(0.5)\n",
    "# 训练的过程就是最小化这个误差值\n",
    "train = optimizer.minimize(loss, name='train')"
   ]
  },
  {
   "cell_type": "code",
   "execution_count": 28,
   "metadata": {},
   "outputs": [
    {
     "name": "stdout",
     "output_type": "stream",
     "text": [
      "W = [-0.8355031] b = [0.] lossess.run(b)s = 0.33740848\n",
      "W = [-0.5742953] b = [0.30333856] loss = 0.12832744\n",
      "W = [-0.3864093] b = [0.3025471] loss = 0.06750856\n",
      "W = [-0.2506] b = [0.30197778] loss = 0.035731874\n",
      "W = [-0.1524332] b = [0.30156627] loss = 0.019129168\n",
      "W = [-0.08147547] b = [0.30126882] loss = 0.010454576\n",
      "W = [-0.03018522] b = [0.30105382] loss = 0.005922269\n",
      "W = [0.00688882] b = [0.3008984] loss = 0.0035542268\n",
      "W = [0.03368698] b = [0.30078608] loss = 0.0023169704\n",
      "W = [0.05305745] b = [0.30070487] loss = 0.0016705284\n",
      "W = [0.06705897] b = [0.3006462] loss = 0.0013327749\n",
      "W = [0.07717967] b = [0.30060375] loss = 0.0011563051\n",
      "W = [0.08449519] b = [0.30057308] loss = 0.0010641031\n",
      "W = [0.08978306] b = [0.3005509] loss = 0.0010159293\n",
      "W = [0.09360528] b = [0.3005349] loss = 0.0009907595\n",
      "W = [0.09636809] b = [0.3005233] loss = 0.0009776087\n",
      "W = [0.09836512] b = [0.30051494] loss = 0.00097073754\n",
      "W = [0.09980863] b = [0.3005089] loss = 0.00096714764\n",
      "W = [0.10085205] b = [0.30050454] loss = 0.00096527196\n",
      "W = [0.10160626] b = [0.30050135] loss = 0.00096429203\n",
      "W = [0.10215142] b = [0.30049908] loss = 0.00096378\n"
     ]
    }
   ],
   "source": [
    "sess = tf.Session()\n",
    "\n",
    "init = tf.global_variables_initializer()\n",
    "sess.run(init)\n",
    "\n",
    "# 初始化的W和b是多少\n",
    "print (\"W =\", sess.run(W), \"b =\", sess.run(b), \"lossess.run(b)s =\", sess.run(loss))\n",
    "# 执行20次训练\n",
    "for step in range(20):\n",
    "    sess.run(train)\n",
    "    # 输出训练好的W和b\n",
    "    print (\"W =\", sess.run(W), \"b =\", sess.run(b), \"loss =\", sess.run(loss))\n",
    "writer = tf.summary.FileWriter(\"./tmp\", sess.graph)\n",
    "writer.close()"
   ]
  },
  {
   "cell_type": "code",
   "execution_count": 29,
   "metadata": {},
   "outputs": [
    {
     "data": {
      "image/png": "[encoded data removed]",
      "text/plain": [
       "<Figure size 432x288 with 1 Axes>"
      ]
     },
     "metadata": {},
     "output_type": "display_data"
    }
   ],
   "source": [
    "plt.scatter(x_data,y_data,c='r')\n",
    "plt.plot(x_data,sess.run(W)*x_data+sess.run(b))\n",
    "plt.show()"
   ]
  },
  {
   "cell_type": "markdown",
   "metadata": {},
   "source": [
    "# 小例子2：简单神经网络\n",
    "要求实现：\n",
    "![](./img/1.PNG)"
   ]
  },
  {
   "cell_type": "markdown",
   "metadata": {},
   "source": [
    "* 思路：\n",
    "1. 这是一个二分类问题\n",
    "2. 需要训练两个权重矩阵$W_1,W_2$"
   ]
  },
  {
   "cell_type": "code",
   "execution_count": 31,
   "metadata": {},
   "outputs": [],
   "source": [
    "from numpy.random import RandomState"
   ]
  },
  {
   "cell_type": "code",
   "execution_count": 32,
   "metadata": {},
   "outputs": [],
   "source": [
    "#定义batchsize\n",
    "batch_size = 8"
   ]
  },
  {
   "cell_type": "code",
   "execution_count": 39,
   "metadata": {},
   "outputs": [],
   "source": [
    "#定义两个权重矩阵参数\n",
    "W1 = tf.Variable(tf.random_uniform([2,3],-1.0,1.0,seed=42),name='W1')\n",
    "\n",
    "W2 = tf.Variable(tf.random_uniform([3,1],-1.0,1.0,seed=42),name='W2')"
   ]
  },
  {
   "cell_type": "code",
   "execution_count": 40,
   "metadata": {},
   "outputs": [],
   "source": [
    "#在shape区用None可以使用不同batch大小\n",
    "x = tf.placeholder(tf.float32,shape=(None,2),name='x_input')\n",
    "y_ = tf.placeholder(tf.float32,shape=(None,1),name='y_input')"
   ]
  },
  {
   "cell_type": "code",
   "execution_count": 41,
   "metadata": {},
   "outputs": [],
   "source": [
    "#定义神经网络过程\n",
    "a = tf.matmul(x,W1)\n",
    "y = tf.matmul(a,W2)"
   ]
  },
  {
   "cell_type": "code",
   "execution_count": 45,
   "metadata": {},
   "outputs": [],
   "source": [
    "y = tf.sigmoid(y)\n",
    "cross_entroy = -tf.reduce_mean(y_*tf.log(tf.clip_by_value(y,1e-10,1.0))+(1-y)*tf.log(tf.clip_by_value(1-y,1e-10,1.0)))\n",
    "train_op = tf.train.AdamOptimizer(0.001).minimize(cross_entroy)"
   ]
  },
  {
   "cell_type": "code",
   "execution_count": 49,
   "metadata": {},
   "outputs": [],
   "source": [
    "#random一个数据集\n",
    "rdm = RandomState()\n",
    "dataset_size = 128\n",
    "X = rdm.rand(dataset_size,2)\n",
    "Y = [[int(x1+x2 <1)] for (x1,x2) in X ]"
   ]
  },
  {
   "cell_type": "code",
   "execution_count": 53,
   "metadata": {},
   "outputs": [
    {
     "name": "stdout",
     "output_type": "stream",
     "text": [
      "W1: [[ 0.9045429   0.35481548  0.5906365 ]\n",
      " [ 0.51156354 -0.04808879  0.26202965]]\n",
      "W2: [[0.9045429 ]\n",
      " [0.35481548]\n",
      " [0.5906365 ]]\n",
      "After 0 traning steps,cross entroy data is 0.584085\n",
      "After 1000 traning steps,cross entroy data is 0.52799\n",
      "After 2000 traning steps,cross entroy data is 0.520341\n",
      "After 3000 traning steps,cross entroy data is 0.518144\n",
      "After 4000 traning steps,cross entroy data is 0.517113\n",
      "W1: [[2.3772416 2.3268204 2.2588437]\n",
      " [2.140995  2.0787094 2.091006 ]]\n",
      "W2: [[2.5612175]\n",
      " [2.7126184]\n",
      " [2.4888234]]\n"
     ]
    }
   ],
   "source": [
    "with tf.Session() as sess:\n",
    "    init_op = tf.global_variables_initializer()\n",
    "    #初始化向量\n",
    "    sess.run(init_op)\n",
    "    print('W1:',sess.run(W1))\n",
    "    print('W2:',sess.run(W2))\n",
    "    \n",
    "    STEPS = 5000\n",
    "    for i in range(STEPS):\n",
    "        start = (i*batch_size) % dataset_size\n",
    "        end = min(start +batch_size,dataset_size)\n",
    "        sess.run(train_op,feed_dict={x:X[start:end],y_:Y[start:end]})\n",
    "        #每过段时间计算所有数据交叉熵\n",
    "        if i %1000 == 0 :\n",
    "            total_cross_entroy = sess.run(cross_entroy,feed_dict={x:X,y_:Y})\n",
    "            print('After %d traning steps,cross entroy data is %g'%(i,total_cross_entroy))\n",
    "    print('W1:',sess.run(W1))\n",
    "    print('W2:',sess.run(W2))\n",
    "    \n",
    "            \n",
    "                                     "
   ]
  },
  {
   "cell_type": "code",
   "execution_count": null,
   "metadata": {},
   "outputs": [],
   "source": []
  },
  {
   "cell_type": "code",
   "execution_count": null,
   "metadata": {},
   "outputs": [],
   "source": []
  },
  {
   "cell_type": "code",
   "execution_count": null,
   "metadata": {},
   "outputs": [],
   "source": []
  },
  {
   "cell_type": "code",
   "execution_count": null,
   "metadata": {},
   "outputs": [],
   "source": []
  },
  {
   "cell_type": "code",
   "execution_count": null,
   "metadata": {},
   "outputs": [],
   "source": []
  }
 ],
 "metadata": {
  "kernelspec": {
   "display_name": "Python 3",
   "language": "python",
   "name": "python3"
  },
  "language_info": {
   "codemirror_mode": {
    "name": "ipython",
    "version": 3
   },
   "file_extension": ".py",
   "mimetype": "text/x-python",
   "name": "python",
   "nbconvert_exporter": "python",
   "pygments_lexer": "ipython3",
   "version": "3.6.5"
  },
  "toc": {
   "base_numbering": 1,
   "nav_menu": {},
   "number_sections": true,
   "sideBar": true,
   "skip_h1_title": false,
   "title_cell": "Table of Contents",
   "title_sidebar": "Contents",
   "toc_cell": false,
   "toc_position": {},
   "toc_section_display": true,
   "toc_window_display": true
  }
 },
 "nbformat": 4,
 "nbformat_minor": 2
}
